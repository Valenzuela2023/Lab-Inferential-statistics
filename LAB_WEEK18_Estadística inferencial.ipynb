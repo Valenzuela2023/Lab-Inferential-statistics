{
 "cells": [
  {
   "cell_type": "code",
   "execution_count": null,
   "metadata": {},
   "outputs": [],
   "source": []
  },
  {
   "cell_type": "code",
   "execution_count": 1,
   "metadata": {},
   "outputs": [
    {
     "name": "stdout",
     "output_type": "stream",
     "text": [
      "Estadístico de prueba (t): 4.76190\n",
      "P-valor: 0.00001\n",
      "Valor crítico: ±1.98422\n",
      "Rechazamos la hipótesis nula. La presión arterial sistólica media del grupo es significativamente diferente de la población.\n"
     ]
    }
   ],
   "source": [
    "import math\n",
    "from scipy.stats import t\n",
    "\n",
    "# Datos proporcionados\n",
    "mu = 120  # Media poblacional\n",
    "sample_mean = 130.1  # Media muestral\n",
    "sample_std_dev = 21.21  # Desviación estándar muestral\n",
    "n = 100  # Tamaño de la muestra\n",
    "\n",
    "# Calcular el estadístico de prueba\n",
    "t_statistic = (sample_mean - mu) / (sample_std_dev / math.sqrt(n))\n",
    "print(f\"Estadístico de prueba (t): {t_statistic:.5f}\")\n",
    "\n",
    "# Grados de libertad\n",
    "df = n - 1\n",
    "\n",
    "# Calcular el p-valor\n",
    "p_value = 2 * (1 - t.cdf(abs(t_statistic), df))\n",
    "print(f\"P-valor: {p_value:.5f}\")\n",
    "\n",
    "# Comparar con el valor crítico\n",
    "alpha = 0.05  # Nivel de significancia\n",
    "critical_value = t.ppf(1 - alpha/2, df)\n",
    "print(f\"Valor crítico: ±{critical_value:.5f}\")\n",
    "\n",
    "# Decisión\n",
    "if abs(t_statistic) > critical_value:\n",
    "    print(\"Rechazamos la hipótesis nula. La presión arterial sistólica media del grupo es significativamente diferente de la población.\")\n",
    "else:\n",
    "    print(\"No rechazamos la hipótesis nula. La presión arterial sistólica media del grupo no es significativamente diferente de la población.\")\n"
   ]
  },
  {
   "cell_type": "code",
   "execution_count": null,
   "metadata": {},
   "outputs": [],
   "source": []
  },
  {
   "cell_type": "code",
   "execution_count": null,
   "metadata": {},
   "outputs": [],
   "source": []
  },
  {
   "cell_type": "code",
   "execution_count": null,
   "metadata": {},
   "outputs": [],
   "source": []
  },
  {
   "cell_type": "code",
   "execution_count": null,
   "metadata": {},
   "outputs": [],
   "source": []
  },
  {
   "cell_type": "code",
   "execution_count": null,
   "metadata": {},
   "outputs": [],
   "source": []
  }
 ],
 "metadata": {
  "kernelspec": {
   "display_name": "base",
   "language": "python",
   "name": "python3"
  },
  "language_info": {
   "codemirror_mode": {
    "name": "ipython",
    "version": 3
   },
   "file_extension": ".py",
   "mimetype": "text/x-python",
   "name": "python",
   "nbconvert_exporter": "python",
   "pygments_lexer": "ipython3",
   "version": "3.11.3"
  }
 },
 "nbformat": 4,
 "nbformat_minor": 2
}
